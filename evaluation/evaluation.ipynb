{
 "cells": [
  {
   "cell_type": "code",
   "execution_count": 1,
   "id": "ea9f7b70",
   "metadata": {},
   "outputs": [],
   "source": [
    "import json"
   ]
  },
  {
   "cell_type": "code",
   "execution_count": 2,
   "id": "205d5f16",
   "metadata": {},
   "outputs": [],
   "source": [
    "file_name = ''\n",
    "with open(file_name, 'r') as df:\n",
    "    data = json.load(df)"
   ]
  },
  {
   "cell_type": "code",
   "execution_count": 4,
   "id": "4826e18e",
   "metadata": {},
   "outputs": [],
   "source": [
    "decode_or = []\n",
    "\n",
    "for doc in data:\n",
    "    decode_or.append(doc['decode_or'])\n",
    "    doc.pop('decode_or')\n",
    "\n",
    "for i in range(len(data)):\n",
    "    data[i]['decode_or'] = decode_or[i]"
   ]
  },
  {
   "cell_type": "code",
   "execution_count": 9,
   "id": "aa1998df",
   "metadata": {},
   "outputs": [],
   "source": [
    "import os\n",
    "import openai\n",
    "os.environ[\"http_proxy\"] = \"http://localhost:7890\"\n",
    "os.environ[\"https_proxy\"] = \"http://localhost:7890\"\n",
    "openai.api_key = ''"
   ]
  },
  {
   "cell_type": "code",
   "execution_count": 10,
   "id": "ce5dfaa8",
   "metadata": {},
   "outputs": [],
   "source": [
    "## Def prompt template: 1. return scores and reasons; 2. only return scores\n",
    "def prompt_construct(data, with_reason=True):\n",
    "    keys = [key for key in data.keys() if key not in ['summary', 'id']]\n",
    "    begining = 'Given a document and some summaries, please evaluate these summaries with scores ranging from 0 to 100.'\n",
    "    context = begining + f\"'{keys[0]}':\" + f\"'{data[keys[0]]}'\" + '\\n'\n",
    "    keys = keys[1:]\n",
    "    context += f\"'{keys[-1]}':\" + f\"'{data[keys[-1]]}'\" + '\\n'\n",
    "    keys = keys[:-1]\n",
    "    for key in keys:\n",
    "        context += f\"'{key}':\" + f\"'{data[key]}'\" + '\\n'\n",
    "    end = 'Within summaries, please ignore the incomplete parts and the duplicate part, duplication and incompleteness will not diminish the score. Only return scores and the reason to score, sentence by sentence, with this pattern:  summary_index:  $$Score$$: , $$Reason$$: .'\n",
    "    end_without_reason = 'Within summaries, please ignore the incomplete parts and the duplicate part, duplication and incompleteness will not diminish the score. Only return scores and don not return the reason sentence by sentence with this pattern:  $$summary_index$$:  $$Score$$:'\n",
    "    if with_reason == True:\n",
    "        prompt_template = context + end\n",
    "    else:\n",
    "        prompt_template = context + end_without_reason\n",
    "    return prompt_template"
   ]
  },
  {
   "cell_type": "code",
   "execution_count": null,
   "id": "6e2726df",
   "metadata": {
    "scrolled": true
   },
   "outputs": [],
   "source": [
    "prompt_template = prompt_construct(data[0], with_reason=False)\n",
    "completion = openai.ChatCompletion.create(\n",
    "  model=\"gpt-4\",\n",
    "  messages=[\n",
    "    {\"role\": \"user\", \"content\": prompt_template}\n",
    "  ]\n",
    ")\n",
    "print(completion[\"choices\"][0][\"message\"][\"content\"])"
   ]
  }
 ],
 "metadata": {
  "kernelspec": {
   "display_name": "Python 3 (ipykernel)",
   "language": "python",
   "name": "python3"
  },
  "language_info": {
   "codemirror_mode": {
    "name": "ipython",
    "version": 3
   },
   "file_extension": ".py",
   "mimetype": "text/x-python",
   "name": "python",
   "nbconvert_exporter": "python",
   "pygments_lexer": "ipython3",
   "version": "3.9.12"
  }
 },
 "nbformat": 4,
 "nbformat_minor": 5
}
