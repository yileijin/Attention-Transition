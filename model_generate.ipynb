{
 "cells": [
  {
   "cell_type": "code",
   "execution_count": null,
   "metadata": {},
   "outputs": [],
   "source": [
    "from typing import List\n",
    "from transformers import AutoTokenizer, AutoModelForCausalLM\n",
    "from typing import Optional, Tuple\n",
    "import math\n",
    "import torch\n",
    "import json"
   ]
  },
  {
   "cell_type": "code",
   "execution_count": 2,
   "metadata": {},
   "outputs": [
    {
     "name": "stderr",
     "output_type": "stream",
     "text": [
      "Loading checkpoint shards: 100%|██████████| 2/2 [00:05<00:00,  2.72s/it]\n"
     ]
    }
   ],
   "source": [
    "tokenizer = AutoTokenizer.from_pretrained(\"huggyllama/llama-7b\")\n",
    "\n",
    "model = AutoModelForCausalLM.from_pretrained(\"huggyllama/llama-7b\").cuda().eval().half()\n",
    "\n",
    "tokenizer.pad_token = tokenizer.unk_token_id"
   ]
  },
  {
   "cell_type": "code",
   "execution_count": null,
   "metadata": {},
   "outputs": [],
   "source": [
    "file_path = ''\n",
    "with open(file_path, 'r') as df:\n",
    "    data = json.load(df)\n",
    "data = data[:200]"
   ]
  },
  {
   "cell_type": "code",
   "execution_count": null,
   "metadata": {},
   "outputs": [],
   "source": [
    "prompt = prompt = data[3]['document'] + ' Please summarize context above:'\n",
    "inputs = tokenizer(prompt, return_tensors=\"pt\")\n",
    "max_len = len(inputs.input_ids[0])+50\n",
    "# Generate\n",
    "generate_ids = model.generate(inputs.input_ids.cuda(), max_length=max_len)\n",
    "torch.cuda.empty_cache()\n",
    "tokenizer.batch_decode(generate_ids[:,-50:], skip_special_tokens=True, clean_up_tokenization_spaces=False)[0]"
   ]
  }
 ],
 "metadata": {
  "kernelspec": {
   "display_name": "env",
   "language": "python",
   "name": "python3"
  },
  "language_info": {
   "codemirror_mode": {
    "name": "ipython",
    "version": 3
   },
   "file_extension": ".py",
   "mimetype": "text/x-python",
   "name": "python",
   "nbconvert_exporter": "python",
   "pygments_lexer": "ipython3",
   "version": "3.11.3"
  },
  "orig_nbformat": 4
 },
 "nbformat": 4,
 "nbformat_minor": 2
}
